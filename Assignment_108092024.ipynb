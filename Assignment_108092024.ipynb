{
  "nbformat": 4,
  "nbformat_minor": 0,
  "metadata": {
    "colab": {
      "provenance": [],
      "toc_visible": true,
      "authorship_tag": "ABX9TyN92cfDXfpgPYbxzTxhRjZc",
      "include_colab_link": true
    },
    "kernelspec": {
      "name": "python3",
      "display_name": "Python 3"
    },
    "language_info": {
      "name": "python"
    }
  },
  "cells": [
    {
      "cell_type": "markdown",
      "metadata": {
        "id": "view-in-github",
        "colab_type": "text"
      },
      "source": [
        "<a href=\"https://colab.research.google.com/github/AMRITL-D/learning/blob/master/Assignment_108092024.ipynb\" target=\"_parent\"><img src=\"https://colab.research.google.com/assets/colab-badge.svg\" alt=\"Open In Colab\"/></a>"
      ]
    },
    {
      "cell_type": "markdown",
      "source": [
        "Student ID : 224573809\n",
        "\n",
        "Student Name :  Amrit Lal\n",
        "\n",
        "Attempted High Distinction Question : Yes"
      ],
      "metadata": {
        "id": "dLSIfI3I_c36"
      }
    },
    {
      "cell_type": "markdown",
      "source": [
        "**Part 1**"
      ],
      "metadata": {
        "id": "5Qy6rMWEAV3t"
      }
    },
    {
      "cell_type": "markdown",
      "source": [
        "Question 1.1 Write a method “is˙divisible” that takes two integers, m and n. The method returns True if m is\n",
        "divisible by n, and returns False otherwise. Give three test cases for this function and three test\n",
        "cases should include cases that return values on True and False. Be sure to test your function well,\n",
        "including at least three test cases."
      ],
      "metadata": {
        "id": "A8wE0qUPAc2V"
      }
    },
    {
      "cell_type": "code",
      "source": [
        "#define a function to devide the numbers and get the reminder\n",
        "def dev_fun(m,n):\n",
        "  if n==0:## denominator can not be zero\n",
        "    print(\"invalid input\")\n",
        "  elif m%n==0: # to get he reminder value use the function %\n",
        "    return True    #if reminder is zero , it is devisible  hence give output as true\n",
        "  else:\n",
        "    return False   #if reminder is not zero , it is not devisible hence give output as false\n"
      ],
      "metadata": {
        "id": "kvgYg9KlAqy3"
      },
      "execution_count": null,
      "outputs": []
    },
    {
      "cell_type": "code",
      "source": [
        "print(dev_fun(10,0))"
      ],
      "metadata": {
        "colab": {
          "base_uri": "https://localhost:8080/"
        },
        "id": "7LYmAQ3IBGs4",
        "outputId": "01c2a067-a6bb-4f32-c56e-c021e60ecf71"
      },
      "execution_count": null,
      "outputs": [
        {
          "output_type": "stream",
          "name": "stdout",
          "text": [
            "invalid input\n",
            "None\n"
          ]
        }
      ]
    },
    {
      "cell_type": "code",
      "execution_count": null,
      "metadata": {
        "colab": {
          "base_uri": "https://localhost:8080/"
        },
        "id": "aHvhUlOS_ayc",
        "outputId": "76c69c71-b6bc-4bf3-e37b-8788c63c5ff2"
      },
      "outputs": [
        {
          "output_type": "stream",
          "name": "stdout",
          "text": [
            "True\n"
          ]
        }
      ],
      "source": [
        "print(dev_fun(64,8))"
      ]
    },
    {
      "cell_type": "code",
      "source": [
        "print(dev_fun(99,2))"
      ],
      "metadata": {
        "colab": {
          "base_uri": "https://localhost:8080/"
        },
        "id": "9S31kSx2C_QY",
        "outputId": "058b26e4-cf81-4968-fbb2-b944b33ebcbb"
      },
      "execution_count": null,
      "outputs": [
        {
          "output_type": "stream",
          "name": "stdout",
          "text": [
            "False\n"
          ]
        }
      ]
    },
    {
      "cell_type": "markdown",
      "source": [
        "**Question 1.2 **  Imagine that Python does not have the != operator built in. Write a method “not_equal” that takes\n",
        "two variables(any variable type) and gives the same result as the != operator. Obviously, you cannot\n",
        "use != within your function! Test if your code works by thinking of examples and making sure the\n",
        "output is the same for your new method as != gives you. Be sure to test your function well, including\n",
        "at least 3 test cases"
      ],
      "metadata": {
        "id": "PpfFJJ4qDcee"
      }
    },
    {
      "cell_type": "code",
      "source": [
        "#define a function to devide the numbers and get the reminder\n",
        "def notequal_fun(m,n):  #define a function if loop if both number are not equal\n",
        "  if m==n:\n",
        "    return False\n",
        "  else:\n",
        "    return True\n"
      ],
      "metadata": {
        "id": "_ly0HE0MDqBy"
      },
      "execution_count": null,
      "outputs": []
    },
    {
      "cell_type": "code",
      "source": [
        "print(notequal_fun(99,5))"
      ],
      "metadata": {
        "colab": {
          "base_uri": "https://localhost:8080/"
        },
        "id": "9WMSIPF5DoOR",
        "outputId": "dc4c9951-5457-4094-a25f-ac4210864930"
      },
      "execution_count": null,
      "outputs": [
        {
          "output_type": "stream",
          "name": "stdout",
          "text": [
            "True\n"
          ]
        }
      ]
    },
    {
      "cell_type": "code",
      "source": [
        "print(notequal_fun(90,90))"
      ],
      "metadata": {
        "colab": {
          "base_uri": "https://localhost:8080/"
        },
        "id": "LwZoB4oiHY3Z",
        "outputId": "49b111d4-1789-44ec-8f9d-9f86693eac9a"
      },
      "execution_count": null,
      "outputs": [
        {
          "output_type": "stream",
          "name": "stdout",
          "text": [
            "False\n"
          ]
        }
      ]
    },
    {
      "cell_type": "code",
      "source": [
        "print(notequal_fun('apple',91))"
      ],
      "metadata": {
        "colab": {
          "base_uri": "https://localhost:8080/"
        },
        "id": "Ue1uXz2bHk9S",
        "outputId": "96e02248-cd6d-4cb2-c678-5d440eadc9f8"
      },
      "execution_count": null,
      "outputs": [
        {
          "output_type": "stream",
          "name": "stdout",
          "text": [
            "True\n"
          ]
        }
      ]
    },
    {
      "cell_type": "code",
      "source": [
        "print(notequal_fun('apple','apple'))"
      ],
      "metadata": {
        "colab": {
          "base_uri": "https://localhost:8080/"
        },
        "id": "KowAE9VDHsQs",
        "outputId": "758e2feb-aeb4-4636-bc0d-b424ecff4a8f"
      },
      "execution_count": null,
      "outputs": [
        {
          "output_type": "stream",
          "name": "stdout",
          "text": [
            "False\n"
          ]
        }
      ]
    },
    {
      "cell_type": "markdown",
      "source": [
        "Question1.3 : List Comprehensions, you will need to perform and understand list comprehensions programming in\n",
        "below two small tasks.\n",
        "• Write a list comprehension that prints out the possible results of three coin flips (how many\n",
        "results should be there?)\n",
        "• Run this list comprehension in your notebook: [x+y for x in [10,20,30] for y in\n",
        "[1,2,3]]. Figure out what is going on here, and write a nested for loop that gives you\n",
        "the same result.\n"
      ],
      "metadata": {
        "id": "NYsrutEcIDJN"
      }
    },
    {
      "cell_type": "code",
      "source": [
        "# Possible outcome when one coin tossed Head or tail\n",
        "outcome = ['H','T']\n",
        "final_outcome= [ ]\n",
        "def comprehension():\n",
        "  for i in outcome:\n",
        "    for j in outcome:\n",
        "       for k in outcome:\n",
        "        list1 = [i, j, k]\n",
        "        final_outcome.append(list1)\n"
      ],
      "metadata": {
        "id": "Jzoi2cVoIZAh"
      },
      "execution_count": null,
      "outputs": []
    },
    {
      "cell_type": "code",
      "source": [
        "comprehension() # execute the comprehension function"
      ],
      "metadata": {
        "id": "0f83dtzTMDAn"
      },
      "execution_count": null,
      "outputs": []
    },
    {
      "cell_type": "code",
      "source": [
        "print(final_outcome)"
      ],
      "metadata": {
        "colab": {
          "base_uri": "https://localhost:8080/"
        },
        "id": "rZzW-8tnLgkR",
        "outputId": "f1c64041-9381-4e51-aa04-21276c5fd98c"
      },
      "execution_count": null,
      "outputs": [
        {
          "output_type": "stream",
          "name": "stdout",
          "text": [
            "[['H', 'H', 'H'], ['H', 'H', 'T'], ['H', 'T', 'H'], ['H', 'T', 'T'], ['T', 'H', 'H'], ['T', 'H', 'T'], ['T', 'T', 'H'], ['T', 'T', 'T']]\n"
          ]
        }
      ]
    },
    {
      "cell_type": "markdown",
      "source": [
        "Question 1.3.2: Run this list comprehension in your notebook: [x+y for x in [10,20,30] for y in\n",
        "[1,2,3]]. Figure out what is going on here, and write a nested for loop that gives you\n",
        "the same result"
      ],
      "metadata": {
        "id": "XVls5Pt0OZt-"
      }
    },
    {
      "cell_type": "code",
      "source": [
        "x=[10,20,30]\n",
        "y=[1,2,3]\n",
        "result =[] # define empty list for the case for result storage during loop operation\n",
        "for i in x:\n",
        "  for j in y:\n",
        "    rsum=i+j\n",
        "    result.append(rsum)\n",
        "\n"
      ],
      "metadata": {
        "id": "wb2ZYg_8O5C_"
      },
      "execution_count": null,
      "outputs": []
    },
    {
      "cell_type": "code",
      "source": [
        "print(result)"
      ],
      "metadata": {
        "colab": {
          "base_uri": "https://localhost:8080/"
        },
        "id": "tTCM28RLO-Uq",
        "outputId": "88e8134c-d20e-4a2b-ab4e-890941c7960b"
      },
      "execution_count": null,
      "outputs": [
        {
          "output_type": "stream",
          "name": "stdout",
          "text": [
            "[11, 12, 13, 21, 22, 23, 31, 32, 33]\n"
          ]
        }
      ]
    },
    {
      "cell_type": "markdown",
      "source": [
        "Question 1.4 :Write a function ”find_digits” that takes in a string and uses a list comprehension to return all\n",
        "the int digits in the string if any (assuming string only contain digits from 0 to 9). Be sure to test\n",
        "your function well, including at least 3 test cases."
      ],
      "metadata": {
        "id": "WN4iU5lnP5an"
      }
    },
    {
      "cell_type": "code",
      "source": [
        "\n",
        "def find_degits(s):# define a function to evaluate is string if there is any digit in the same\n",
        "  digit_list=[]\n",
        "  for char in s: #define for loop to iterate over the string charachters\n",
        "    if char.isdigit(): # identify if char is digit or string\n",
        "      num=int(char)\n",
        "      digit_list.append(num)\n",
        "  return digit_list\n",
        "\n"
      ],
      "metadata": {
        "id": "oeQ1NT0yQILy"
      },
      "execution_count": null,
      "outputs": []
    },
    {
      "cell_type": "code",
      "source": [
        "print(find_degits(\"house no 747\"))"
      ],
      "metadata": {
        "colab": {
          "base_uri": "https://localhost:8080/"
        },
        "id": "AtyX2_YISFJp",
        "outputId": "200cf604-1bcb-4e26-9bd3-db529858177b"
      },
      "execution_count": null,
      "outputs": [
        {
          "output_type": "stream",
          "name": "stdout",
          "text": [
            "[7, 4, 7]\n"
          ]
        }
      ]
    },
    {
      "cell_type": "code",
      "source": [
        "print(find_degits(\"hello\"))"
      ],
      "metadata": {
        "colab": {
          "base_uri": "https://localhost:8080/"
        },
        "id": "ZRIT3Z9PSdi6",
        "outputId": "0c89973f-3d4f-412d-9482-0d2d9bdfb5f0"
      },
      "execution_count": null,
      "outputs": [
        {
          "output_type": "stream",
          "name": "stdout",
          "text": [
            "[]\n"
          ]
        }
      ]
    },
    {
      "cell_type": "code",
      "source": [
        "print(find_degits('1234556789'))"
      ],
      "metadata": {
        "colab": {
          "base_uri": "https://localhost:8080/"
        },
        "id": "fpuz112ATCNz",
        "outputId": "a2e78024-3fd3-484f-d3b1-6e2c1dca3574"
      },
      "execution_count": null,
      "outputs": [
        {
          "output_type": "stream",
          "name": "stdout",
          "text": [
            "[1, 2, 3, 4, 5, 5, 6, 7, 8, 9]\n"
          ]
        }
      ]
    },
    {
      "cell_type": "markdown",
      "source": [
        "Question 5. Write a list comprehension which solves the equation y = 2x\n",
        "2 − 1 like Figure 2. Your solution should\n",
        "print out a list of [x, y] pairs; use the domain x ∈ [−3, 3] and the range y ∈ [0, 30]. x and y are all\n",
        "integers and you could use range for simulation on the x and y."
      ],
      "metadata": {
        "id": "E2JVKIprTZ9Z"
      }
    },
    {
      "cell_type": "code",
      "source": [
        "import numpy as np"
      ],
      "metadata": {
        "id": "Dy-7byFDUI2x"
      },
      "execution_count": null,
      "outputs": []
    },
    {
      "cell_type": "code",
      "source": [
        "for x in range(-3,4): # we need to consider upper limit as 4 , because X can takes the value upto 3\n",
        "  list=[]# list that need to be updated as per specified condition\n",
        "  y=2*x**2-1 # Calculation of valye y with given equation\n",
        "  if y>=0 and y<=30: # lower and upder limit condition for y\n",
        "    list.append(x)\n",
        "    list.append(y)\n",
        "\n",
        "  print([x,y])\n"
      ],
      "metadata": {
        "colab": {
          "base_uri": "https://localhost:8080/"
        },
        "id": "ivUdBMXjTlpH",
        "outputId": "cf43b543-baec-4598-a25c-41d21dfeb3fe"
      },
      "execution_count": null,
      "outputs": [
        {
          "output_type": "stream",
          "name": "stdout",
          "text": [
            "[-3, 17]\n",
            "[-2, 7]\n",
            "[-1, 1]\n",
            "[0, -1]\n",
            "[1, 1]\n",
            "[2, 7]\n",
            "[3, 17]\n"
          ]
        }
      ]
    },
    {
      "cell_type": "markdown",
      "source": [
        "Question 1.6 Collision Detection of Balls:\n",
        "For calculating collision, we only care about a ball’s position in space, as well as its size. We can\n",
        "store a ball’s position with the (x, y) coordinates of its center point, and we can calculate its size if\n",
        "we know its radius r. Thus, we represent a ball in 2D space as a tuple of (x, y, r). To figure out if two\n",
        "balls are colliding, we need to compute the distance between their centers, then see if this distance is\n",
        "less than or equal to the sum of their radius. If so, they are colliding. Please define a function with\n"
      ],
      "metadata": {
        "id": "FicGUmPwW-yu"
      }
    },
    {
      "cell_type": "code",
      "source": [
        "def collision(ball1,ball2):\n",
        "  x1,y1,r1=ball1\n",
        "  x2,y2,r2=ball2\n",
        "  distance=((x2-x1)**2+(y2-y1)**2)**0.5\n",
        "  if distance<=r1+r2:\n",
        "    return True\n",
        "  else:\n",
        "    return False"
      ],
      "metadata": {
        "id": "sJMm0tGYW0r-"
      },
      "execution_count": null,
      "outputs": []
    },
    {
      "cell_type": "code",
      "source": [
        "print(collision((1,1,1),(0.5,0.5,1)))"
      ],
      "metadata": {
        "colab": {
          "base_uri": "https://localhost:8080/"
        },
        "id": "4O4H4OAaX0EA",
        "outputId": "bce876e4-0023-4864-fed5-23498007a6c8"
      },
      "execution_count": null,
      "outputs": [
        {
          "output_type": "stream",
          "name": "stdout",
          "text": [
            "True\n"
          ]
        }
      ]
    },
    {
      "cell_type": "code",
      "source": [
        "print(collision((5,1,3),(10,10,3)))"
      ],
      "metadata": {
        "colab": {
          "base_uri": "https://localhost:8080/"
        },
        "id": "z2_qvWjyYV0m",
        "outputId": "259b16c9-5cbf-4450-9df4-809603e439dd"
      },
      "execution_count": null,
      "outputs": [
        {
          "output_type": "stream",
          "name": "stdout",
          "text": [
            "False\n"
          ]
        }
      ]
    },
    {
      "cell_type": "code",
      "source": [
        "print(collision((1,1,1),(1,1,1)))"
      ],
      "metadata": {
        "colab": {
          "base_uri": "https://localhost:8080/"
        },
        "id": "CMQYvjTPYhX3",
        "outputId": "9801ab7d-5434-41df-bab6-f54e5234f5a9"
      },
      "execution_count": null,
      "outputs": [
        {
          "output_type": "stream",
          "name": "stdout",
          "text": [
            "True\n"
          ]
        }
      ]
    },
    {
      "cell_type": "code",
      "source": [
        "for i in range (6):\n",
        "    temp_list =[]\n",
        "    for j in range (i+1):\n",
        "        print()\n",
        "            temp_list.append(1)\n",
        "        else:\n",
        "            temp_list.append(list1[i-1][j-1] + list1[i-1][j])\n",
        "    list1.append(temp_list)\n",
        "\n",
        "for i in range(number):\n",
        "    for j in range (number-i-1):\n",
        "        print(format(\" \", \"<2\"),end =\"\")\n",
        "    for j in range( i+1):\n",
        "        print(format(list1[i][j],\"<3\"), end =\"\")\n",
        "    print()"
      ],
      "metadata": {
        "id": "c1qkYtD9rEpc"
      },
      "execution_count": null,
      "outputs": []
    },
    {
      "cell_type": "markdown",
      "source": [
        "Scoring the words A set of score is given to you as below according to each English letters: LETTER˙VALUES = ’a’: 1, ’b’: 1, ’c’: 5, ’d’: 6, ’e’: 1, ’f’: 4, ’g’: 2, ’h’: 4, ’i’: 1, ’j’: 8, ’k’:\n",
        "6, ’l’: 1, ’m’: 4, ’n’: 1, ’o’: 1, ’p’: 3, ’q’: 11, ’r’: 1, ’s’: 1, ’t’: 1, ’u’: 1, ’v’: 5, ’w’: 4, ’x’: 8, ’y’: 6, ’z’: 10, ’ ’:100                                              Please finish the “get_word_score” function for returning the correct word score (condition is given\n",
        "from function comments). The necessary library is given to you for importing (not other libraries\n",
        "should be used). Test with “Australia”, “Deakin” and your name for three cases.\n"
      ],
      "metadata": {
        "id": "KiTMGLUZ1lTR"
      }
    },
    {
      "cell_type": "code",
      "source": [
        "Letter_Values={'a':1,'b':1,'c':5,'d':6,'e':1,'f':4,'g':2,'h':4,'i':1,'j':8,'k':6,'l':1,'m':4,'n':1,'o':1,'p':3,\n",
        "               'q':11,'r':1,'s':1,'t':1,'u':1,'v':5,'w':4,'x':8,'y':6,'z':10,' ':100\n",
        "               }\n",
        "\n",
        "def get_word_score(word):\n",
        "\n",
        "  \"\"\"\n",
        "  Return the  Score for a word Assume the word is a valid word.\n",
        "  You may assume that the input word is always either a string of letters,\n",
        "  or the empty string.\n",
        "  You may not assume that the string will contains only lowercase letter,\n",
        "  so will have to to handle  upper case and mixed case stringsappropriately.\n",
        "  the score for a word is the product of two components :\n",
        "  First Component is the sum of points for letter in the word.\n",
        "  Second  component is the larger of :1,or\n",
        "  7*wordlen-3*(20-wordlen), where wordlen is the length of the word.\n",
        "  word:string\n",
        "  returns : int >= 0\n",
        "  \"\"\"\n",
        "  word = word.lower()\n",
        "  wordlen=len(word)\n",
        "\n",
        "    ###calculate the first component : sum of letter score\n",
        "  first_component=0\n",
        "  for char in word:\n",
        "    first_component+=Letter_Values[char]\n",
        "    ### Calculate the Second component based on word lengh\n",
        "    second_comp_1=1\n",
        "    second_comp_2=7*wordlen-3*(20-wordlen)\n",
        "    if second_comp_2<1:\n",
        "      second_comp=second_comp_1\n",
        "    else:\n",
        "      second_comp=second_comp_2\n",
        "  return first_component*second_comp\n",
        "\n",
        ""
      ],
      "metadata": {
        "id": "kekS6jy314ZJ"
      },
      "execution_count": 33,
      "outputs": []
    },
    {
      "cell_type": "code",
      "source": [
        "word_input =input(\"Enter the word\")\n",
        "print(word_input)\n",
        "\n",
        "print(get_word_score(word_input))\n"
      ],
      "metadata": {
        "colab": {
          "base_uri": "https://localhost:8080/"
        },
        "id": "2ieAd6GWBb4J",
        "outputId": "ff37fa4c-1332-4347-ce8c-ba7cd5ef738d"
      },
      "execution_count": 34,
      "outputs": [
        {
          "output_type": "stream",
          "name": "stdout",
          "text": [
            "Enter the worddeakin\n",
            "deakin\n",
            "16\n"
          ]
        }
      ]
    },
    {
      "cell_type": "code",
      "source": [
        "word_input =input(\"Enter the word\")\n",
        "print(word_input)\n",
        "\n",
        "print(get_word_score(word_input))"
      ],
      "metadata": {
        "colab": {
          "base_uri": "https://localhost:8080/"
        },
        "id": "ehsbOyBoElnw",
        "outputId": "4d452105-dbe7-4a17-e486-542f06798c9b"
      },
      "execution_count": 35,
      "outputs": [
        {
          "output_type": "stream",
          "name": "stdout",
          "text": [
            "Enter the wordamrit lal\n",
            "amrit lal\n",
            "3330\n"
          ]
        }
      ]
    },
    {
      "cell_type": "code",
      "source": [
        "word_input =input(\"Enter the word\")\n",
        "print(word_input)\n",
        "\n",
        "print(get_word_score(word_input))"
      ],
      "metadata": {
        "colab": {
          "base_uri": "https://localhost:8080/"
        },
        "id": "edClAq7vE6S9",
        "outputId": "c612c9bd-7286-4f7a-acd5-c29ac96bdc0d"
      },
      "execution_count": 36,
      "outputs": [
        {
          "output_type": "stream",
          "name": "stdout",
          "text": [
            "Enter the wordAustralia\n",
            "Australia\n",
            "270\n"
          ]
        }
      ]
    },
    {
      "cell_type": "markdown",
      "source": [
        "1.8 Could you please use loop(s) with string character“*” to print as below"
      ],
      "metadata": {
        "id": "_4o1Qk_eP0xr"
      }
    },
    {
      "cell_type": "markdown",
      "source": [
        "![Start.jpg](data:image/jpeg;base64,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)"
      ],
      "metadata": {
        "id": "KuPzVwZfQRCp"
      }
    },
    {
      "cell_type": "code",
      "source": [
        "r = 6\n",
        "for i in range(1, r):\n",
        "    print(' '* (r - i) + '* ' * i)\n",
        "\n"
      ],
      "metadata": {
        "colab": {
          "base_uri": "https://localhost:8080/"
        },
        "id": "Bi9C_ERPQWAs",
        "outputId": "92ed182e-183c-4d0a-d32d-fd6a1f93f511"
      },
      "execution_count": 52,
      "outputs": [
        {
          "output_type": "stream",
          "name": "stdout",
          "text": [
            "     * \n",
            "    * * \n",
            "   * * * \n",
            "  * * * * \n",
            " * * * * * \n"
          ]
        }
      ]
    },
    {
      "cell_type": "code",
      "source": [
        "r = 5\n",
        "\n",
        "# Top half\n",
        "for i in range(1, r+1 ):\n",
        "  print(' '*2*(r - i) + '* ' * i)\n",
        "\n",
        "  # Bottom half\n",
        "for i in range(r-1,0,-1):\n",
        "    print(' '*2*(r-i)+ '* '*i)\n",
        "\n",
        "\n",
        "\n"
      ],
      "metadata": {
        "colab": {
          "base_uri": "https://localhost:8080/"
        },
        "id": "G3Sq-ANiX5cx",
        "outputId": "6e8e4a46-a533-41c6-96f5-d4c66579a6d1"
      },
      "execution_count": 44,
      "outputs": [
        {
          "output_type": "stream",
          "name": "stdout",
          "text": [
            "        * \n",
            "      * * \n",
            "    * * * \n",
            "  * * * * \n",
            "* * * * * \n",
            "  * * * * \n",
            "    * * * \n",
            "      * * \n",
            "        * \n"
          ]
        }
      ]
    }
  ]
}